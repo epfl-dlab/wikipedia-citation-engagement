{
 "cells": [
  {
   "cell_type": "code",
   "execution_count": 1,
   "metadata": {},
   "outputs": [],
   "source": [
    "import pyspark\n",
    "import re\n",
    "import pyspark.sql\n",
    "from pyspark.sql import *\n",
    "import pandas as pd\n",
    "import matplotlib.pyplot as plt\n",
    "import os.path\n",
    "from pyspark.sql.functions import *\n",
    "import json\n",
    "from pyspark.sql.types import *\n",
    "import urllib.parse\n",
    "import builtins\n",
    "\n",
    "spark = sqlContext = SQLContext(sc)\n",
    "\n",
    "%matplotlib inline\n",
    "\n",
    "sc.addPyFile(\"/home/piccardi/libs/seaborn-0.9.0-py3.5.egg\")\n",
    "import seaborn as sns\n"
   ]
  },
  {
   "cell_type": "markdown",
   "metadata": {},
   "source": [
    "### Load data"
   ]
  },
  {
   "cell_type": "code",
   "execution_count": 2,
   "metadata": {},
   "outputs": [
    {
     "data": {
      "text/plain": [
       "DataFrame[hover: bigint, page_token: string, reference_position: bigint, revision_id: bigint, text: string]"
      ]
     },
     "execution_count": 2,
     "metadata": {},
     "output_type": "execute_result"
    }
   ],
   "source": [
    "hover_text = spark.read.parquet(\"hover_text.parquet\")\n",
    "hover_text"
   ]
  },
  {
   "cell_type": "code",
   "execution_count": 3,
   "metadata": {},
   "outputs": [
    {
     "data": {
      "text/plain": [
       "DataFrame[hover: bigint, page_token: string, reference_position: bigint, revision_id: bigint, text: string, text_tokens: array<string>]"
      ]
     },
     "execution_count": 3,
     "metadata": {},
     "output_type": "execute_result"
    }
   ],
   "source": [
    "from pyspark.ml.feature import Tokenizer, RegexTokenizer\n",
    "from pyspark.sql.functions import col, udf\n",
    "from pyspark.sql.types import IntegerType\n",
    "\n",
    "contextTokenizer = RegexTokenizer(inputCol=\"text\", outputCol=\"text_tokens\", pattern=\"\\\\W\")\n",
    "samples_tokenized = contextTokenizer.transform(hover_text)\n",
    "\n",
    "samples_tokenized"
   ]
  },
  {
   "cell_type": "code",
   "execution_count": 4,
   "metadata": {},
   "outputs": [
    {
     "data": {
      "text/plain": [
       "DataFrame[hover: bigint, page_token: string, reference_position: bigint, revision_id: bigint, text: string, text_tokens: array<string>, text_tokens_clean: array<string>]"
      ]
     },
     "execution_count": 4,
     "metadata": {},
     "output_type": "execute_result"
    }
   ],
   "source": [
    "from pyspark.ml.feature import StopWordsRemover\n",
    "\n",
    "contextRemover = StopWordsRemover(inputCol=\"text_tokens\", outputCol=\"text_tokens_clean\")\n",
    "samples_clean = contextRemover.transform(samples_tokenized).drop(\"context_tokens\")\n",
    "samples_clean"
   ]
  },
  {
   "cell_type": "code",
   "execution_count": 5,
   "metadata": {},
   "outputs": [
    {
     "data": {
      "text/plain": [
       "DataFrame[hover: bigint, page_token: string, reference_position: bigint, revision_id: bigint, text: string, text_tokens_clean: array<string>]"
      ]
     },
     "execution_count": 5,
     "metadata": {},
     "output_type": "execute_result"
    }
   ],
   "source": [
    "features_compressed = samples_clean.drop(\"text_tokens\").where(\"SIZE(text_tokens_clean) < 10000\")\n",
    "features_compressed.cache()"
   ]
  },
  {
   "cell_type": "markdown",
   "metadata": {},
   "source": [
    "----------\n",
    "\n",
    "# Train the model"
   ]
  },
  {
   "cell_type": "code",
   "execution_count": 37,
   "metadata": {},
   "outputs": [
    {
     "data": {
      "text/plain": [
       "DataFrame[hover: bigint, page_token: string, reference_position: bigint, revision_id: bigint, text: string, text_tokens_clean: array<string>]"
      ]
     },
     "execution_count": 37,
     "metadata": {},
     "output_type": "execute_result"
    }
   ],
   "source": [
    "features_compressed"
   ]
  },
  {
   "cell_type": "code",
   "execution_count": 38,
   "metadata": {},
   "outputs": [
    {
     "data": {
      "text/plain": [
       "9351579"
      ]
     },
     "execution_count": 38,
     "metadata": {},
     "output_type": "execute_result"
    }
   ],
   "source": [
    "features_compressed.count()"
   ]
  },
  {
   "cell_type": "code",
   "execution_count": null,
   "metadata": {},
   "outputs": [],
   "source": [
    "# Bad term where the parser failed. They will be replaced with a special token\n",
    "\n",
    "list_movie = set([\"seasonepisodesoriginally\",\"scoressourceratingallmusic\",\n",
    "                 \"airedlast\", \"tban\", \"tbatbaapril\", \"overallno\", \"byoriginal\", \"ratingsaggregate\"])\n"
   ]
  },
  {
   "cell_type": "code",
   "execution_count": 251,
   "metadata": {},
   "outputs": [
    {
     "data": {
      "text/plain": [
       "DataFrame[hover: bigint, reference_position: bigint, revision_id: bigint, text: string, tokens: array<string>]"
      ]
     },
     "execution_count": 251,
     "metadata": {},
     "output_type": "execute_result"
    }
   ],
   "source": [
    "import re\n",
    "\n",
    "is_number = re.compile('^\\d+$')\n",
    "\n",
    "def window(iterable, size=2):\n",
    "    i = iter(iterable)\n",
    "    win = []\n",
    "    for e in range(0, size):\n",
    "        win.append(next(i))\n",
    "    yield win\n",
    "    for e in i:\n",
    "        win = win[1:] + [e]\n",
    "        yield win\n",
    "\n",
    "def translate(token):\n",
    "    if len(token)<=1:\n",
    "        return ''\n",
    "    if token in list_movie:\n",
    "        return '$MovieInfo$'\n",
    "    if token in list_airline:\n",
    "        return ''\n",
    "    if is_number.match(token):\n",
    "        if len(token) != 4:\n",
    "            return '$number$'\n",
    "    return token\n",
    "\n",
    "def get_words_vectors(row):\n",
    "    tokens = []\n",
    "    for t in row.text_tokens_clean:\n",
    "        token = translate(t)\n",
    "        if len(token) > 0:\n",
    "            tokens.append(token)\n",
    "    text_bigrams = [\" \".join(t) for t in window(tokens, size=2) \n",
    "                    if '$MovieInfo$' not in t \n",
    "                   ]\n",
    "        \n",
    "    tokens += text_bigrams\n",
    "    return Row(hover=row.hover, \n",
    "               tokens=tokens,\n",
    "               reference_position=row.reference_position,\n",
    "               revision_id=row.revision_id,\n",
    "               text=row.text\n",
    "              )\n",
    "\n",
    "features = spark.createDataFrame(features_compressed.rdd.map(get_words_vectors))\n",
    "features"
   ]
  },
  {
   "cell_type": "markdown",
   "metadata": {},
   "source": [
    "-------"
   ]
  },
  {
   "cell_type": "code",
   "execution_count": 254,
   "metadata": {},
   "outputs": [
    {
     "data": {
      "text/plain": [
       "[Row(hover=0, reference_position=19, revision_id=887670753, text='Also, at a genetic level, half-fourth cousins typically do not exhibit greater genetic similarity with one another than with any other individual from the same population.', tokens=['also', 'genetic', 'level', 'half', 'fourth', 'cousins', 'typically', 'exhibit', 'greater', 'genetic', 'similarity', 'one', 'another', 'individual', 'population', 'also genetic', 'genetic level', 'level half', 'half fourth', 'fourth cousins', 'cousins typically', 'typically exhibit', 'exhibit greater', 'greater genetic', 'genetic similarity', 'similarity one', 'one another', 'another individual', 'individual population'], tokens_vector=SparseVector(10000, {17: 1.0, 19: 1.0, 311: 1.0, 425: 1.0, 540: 1.0, 720: 1.0, 1097: 1.0, 1181: 1.0, 1305: 1.0, 2684: 1.0, 4058: 2.0})),\n",
       " Row(hover=1, reference_position=27, revision_id=887670753, text='The phenomenon of inbreeding increases the level of homozygotes for autosomal genetic disorders and generally leads to a decreased biological fitness of a population known as inbreeding depression, a major objective in clinical studies.', tokens=['phenomenon', 'inbreeding', 'increases', 'level', 'homozygotes', 'autosomal', 'genetic', 'disorders', 'generally', 'leads', 'decreased', 'biological', 'fitness', 'population', 'known', 'inbreeding', 'depression', 'major', 'objective', 'clinical', 'studies', 'phenomenon inbreeding', 'inbreeding increases', 'increases level', 'level homozygotes', 'homozygotes autosomal', 'autosomal genetic', 'genetic disorders', 'disorders generally', 'generally leads', 'leads decreased', 'decreased biological', 'biological fitness', 'fitness population', 'population known', 'known inbreeding', 'inbreeding depression', 'depression major', 'major objective', 'objective clinical', 'clinical studies'], tokens_vector=SparseVector(10000, {122: 1.0, 311: 1.0, 398: 1.0, 540: 1.0, 954: 1.0, 1195: 1.0, 4058: 1.0, 4430: 1.0, 4480: 1.0, 4536: 1.0, 5815: 1.0, 6023: 1.0, 6433: 1.0, 6595: 1.0, 9276: 1.0, 9518: 1.0, 9582: 1.0})),\n",
       " Row(hover=0, reference_position=13, revision_id=887443589, text='The Cook Islands were first settled in the 6th century by Polynesian people who migrated from Tahiti,  an island 1,154 kilometres (717\\xa0mi) to the northeast.', tokens=['cook', 'islands', 'first', 'settled', '6th', 'century', 'polynesian', 'people', 'migrated', 'tahiti', 'island', '$number$', 'kilometres', '$number$', 'mi', 'northeast', 'cook islands', 'islands first', 'first settled', 'settled 6th', '6th century', 'century polynesian', 'polynesian people', 'people migrated', 'migrated tahiti', 'tahiti island', 'island $number$', '$number$ kilometres', 'kilometres $number$', '$number$ mi', 'mi northeast'], tokens_vector=SparseVector(10000, {0: 2.0, 18: 1.0, 86: 1.0, 109: 1.0, 281: 1.0, 319: 1.0, 429: 1.0, 466: 1.0, 1337: 1.0, 2562: 1.0, 4254: 1.0, 5344: 1.0, 5495: 1.0, 7526: 1.0, 7967: 1.0, 9072: 1.0, 9626: 1.0}))]"
      ]
     },
     "execution_count": 254,
     "metadata": {},
     "output_type": "execute_result"
    }
   ],
   "source": [
    "from pyspark.ml.feature import CountVectorizer\n",
    "\n",
    "# fit a CountVectorizerModel from the corpus.\n",
    "terms_vectorizer = CountVectorizer(inputCol=\"tokens\", \n",
    "                                     outputCol=\"tokens_vector\", \n",
    "                                     vocabSize=10000)\n",
    "\n",
    "context_vectorizer_model = terms_vectorizer.fit(features)\n",
    "\n",
    "result = context_vectorizer_model.transform(features).cache()\n",
    "result.take(3)"
   ]
  },
  {
   "cell_type": "code",
   "execution_count": 255,
   "metadata": {},
   "outputs": [],
   "source": [
    "vocab = context_vectorizer_model.vocabulary"
   ]
  },
  {
   "cell_type": "code",
   "execution_count": 256,
   "metadata": {},
   "outputs": [
    {
     "data": {
      "text/plain": [
       "['$number$',\n",
       " '$number$ $number$',\n",
       " '2018',\n",
       " '2017',\n",
       " '2019',\n",
       " 'united',\n",
       " '2016',\n",
       " 'yes',\n",
       " '2015',\n",
       " 'new']"
      ]
     },
     "execution_count": 256,
     "metadata": {},
     "output_type": "execute_result"
    }
   ],
   "source": [
    "vocab[0:10]"
   ]
  },
  {
   "cell_type": "markdown",
   "metadata": {},
   "source": [
    "---------"
   ]
  },
  {
   "cell_type": "code",
   "execution_count": 257,
   "metadata": {},
   "outputs": [],
   "source": [
    "from IPython.display import display_html\n",
    "def display_side_by_side(*args):\n",
    "    html_str=''\n",
    "    for df in args:\n",
    "        html_str+=df.to_html()\n",
    "    display_html(html_str.replace('table','table style=\"display:inline\"'),raw=True)"
   ]
  },
  {
   "cell_type": "markdown",
   "metadata": {},
   "source": [
    "-----------\n",
    "# Train logistic regression"
   ]
  },
  {
   "cell_type": "code",
   "execution_count": 260,
   "metadata": {},
   "outputs": [
    {
     "name": "stdout",
     "output_type": "stream",
     "text": [
      "0.5793761218012646\n"
     ]
    }
   ],
   "source": [
    "from pyspark.ml.classification import LogisticRegression\n",
    "mlor = LogisticRegression(labelCol=\"hover\", featuresCol=\"tokens_vector\", regParam=0.001, elasticNetParam=0.0)\n",
    "mlorModel = mlor.fit(result)\n",
    "print(mlorModel.summary.areaUnderROC)"
   ]
  },
  {
   "cell_type": "code",
   "execution_count": 261,
   "metadata": {},
   "outputs": [
    {
     "data": {
      "image/png": "[encoded data removed]",
      "text/plain": [
       "<matplotlib.figure.Figure at 0x7fd90433e3c8>"
      ]
     },
     "metadata": {},
     "output_type": "display_data"
    }
   ],
   "source": [
    "import matplotlib.pyplot as plt\n",
    "plt.figure(figsize=(5,5))\n",
    "plt.plot([0, 1], [0, 1], 'r--')\n",
    "plt.plot(mlorModel.summary.roc.select('FPR').collect(),\n",
    "         mlorModel.summary.roc.select('TPR').collect())\n",
    "plt.xlabel('FPR')\n",
    "plt.ylabel('TPR')\n",
    "plt.show()"
   ]
  },
  {
   "cell_type": "code",
   "execution_count": 262,
   "metadata": {},
   "outputs": [],
   "source": [
    "values = mlorModel.coefficients.toArray()\n",
    "coeff={}\n",
    "for i in range(0, len(vocab)):\n",
    "    coeff[vocab[i]]=values[i]\n",
    "    \n",
    "features_importance = pd.DataFrame.from_dict(coeff, orient=\"index\").reset_index()\n",
    "features_importance.columns = [\"name\", \"coefficient\"]\n"
   ]
  },
  {
   "cell_type": "code",
   "execution_count": 263,
   "metadata": {},
   "outputs": [
    {
     "data": {
      "text/html": [
       "<table style=\"display:inline\" border=\"1\" class=\"dataframe\">\n",
       "  <thead>\n",
       "    <tr style=\"text-align: right;\">\n",
       "      <th></th>\n",
       "      <th>coefficient</th>\n",
       "    </tr>\n",
       "    <tr>\n",
       "      <th>name</th>\n",
       "      <th></th>\n",
       "    </tr>\n",
       "  </thead>\n",
       "  <tbody>\n",
       "    <tr>\n",
       "      <th>multirole</th>\n",
       "      <td>0.561335</td>\n",
       "    </tr>\n",
       "    <tr>\n",
       "      <th>$MovieInfo$</th>\n",
       "      <td>0.555397</td>\n",
       "    </tr>\n",
       "    <tr>\n",
       "      <th>instagram</th>\n",
       "      <td>0.510477</td>\n",
       "    </tr>\n",
       "    <tr>\n",
       "      <th>boyfriend</th>\n",
       "      <td>0.490834</td>\n",
       "    </tr>\n",
       "    <tr>\n",
       "      <th>listen</th>\n",
       "      <td>0.467554</td>\n",
       "    </tr>\n",
       "    <tr>\n",
       "      <th>connell</th>\n",
       "      <td>0.457427</td>\n",
       "    </tr>\n",
       "    <tr>\n",
       "      <th>renewed</th>\n",
       "      <td>0.363443</td>\n",
       "    </tr>\n",
       "    <tr>\n",
       "      <th>engaged</th>\n",
       "      <td>0.361933</td>\n",
       "    </tr>\n",
       "    <tr>\n",
       "      <th>dating</th>\n",
       "      <td>0.357062</td>\n",
       "    </tr>\n",
       "    <tr>\n",
       "      <th>sexually</th>\n",
       "      <td>0.356502</td>\n",
       "    </tr>\n",
       "    <tr>\n",
       "      <th>sus</th>\n",
       "      <td>0.347272</td>\n",
       "    </tr>\n",
       "    <tr>\n",
       "      <th>kofi</th>\n",
       "      <td>0.320963</td>\n",
       "    </tr>\n",
       "    <tr>\n",
       "      <th>divorce</th>\n",
       "      <td>0.314543</td>\n",
       "    </tr>\n",
       "    <tr>\n",
       "      <th>married</th>\n",
       "      <td>0.307678</td>\n",
       "    </tr>\n",
       "    <tr>\n",
       "      <th>pronunciation</th>\n",
       "      <td>0.307020</td>\n",
       "    </tr>\n",
       "  </tbody>\n",
       "</table style=\"display:inline\"><table style=\"display:inline\" border=\"1\" class=\"dataframe\">\n",
       "  <thead>\n",
       "    <tr style=\"text-align: right;\">\n",
       "      <th></th>\n",
       "      <th>coefficient</th>\n",
       "    </tr>\n",
       "    <tr>\n",
       "      <th>name</th>\n",
       "      <th></th>\n",
       "    </tr>\n",
       "  </thead>\n",
       "  <tbody>\n",
       "    <tr>\n",
       "      <th>lesotho $number$</th>\n",
       "      <td>0.894366</td>\n",
       "    </tr>\n",
       "    <tr>\n",
       "      <th>albania $number$</th>\n",
       "      <td>0.672081</td>\n",
       "    </tr>\n",
       "    <tr>\n",
       "      <th>$number$ equatorial</th>\n",
       "      <td>0.585155</td>\n",
       "    </tr>\n",
       "    <tr>\n",
       "      <th>afghanistan $number$</th>\n",
       "      <td>0.581170</td>\n",
       "    </tr>\n",
       "    <tr>\n",
       "      <th>gave birth</th>\n",
       "      <td>0.553960</td>\n",
       "    </tr>\n",
       "    <tr>\n",
       "      <th>two sons</th>\n",
       "      <td>0.543814</td>\n",
       "    </tr>\n",
       "    <tr>\n",
       "      <th>grossed $number$</th>\n",
       "      <td>0.540221</td>\n",
       "    </tr>\n",
       "    <tr>\n",
       "      <th>two children</th>\n",
       "      <td>0.521716</td>\n",
       "    </tr>\n",
       "    <tr>\n",
       "      <th>belarus $number$</th>\n",
       "      <td>0.506890</td>\n",
       "    </tr>\n",
       "    <tr>\n",
       "      <th>$number$ kyrgyzstan</th>\n",
       "      <td>0.506004</td>\n",
       "    </tr>\n",
       "    <tr>\n",
       "      <th>three children</th>\n",
       "      <td>0.501697</td>\n",
       "    </tr>\n",
       "    <tr>\n",
       "      <th>$number$ bolivia</th>\n",
       "      <td>0.483047</td>\n",
       "    </tr>\n",
       "    <tr>\n",
       "      <th>certified units</th>\n",
       "      <td>0.469939</td>\n",
       "    </tr>\n",
       "    <tr>\n",
       "      <th>uganda $number$</th>\n",
       "      <td>0.453360</td>\n",
       "    </tr>\n",
       "    <tr>\n",
       "      <th>1890 $number$</th>\n",
       "      <td>0.452777</td>\n",
       "    </tr>\n",
       "  </tbody>\n",
       "</table style=\"display:inline\">"
      ]
     },
     "metadata": {},
     "output_type": "display_data"
    }
   ],
   "source": [
    "ctx_unigrams = features_importance[(~features_importance.name.str.contains(\" \"))]\\\n",
    "    .sort_values(\"coefficient\", ascending=False).head(15)\n",
    "\n",
    "\n",
    "ctx_bigrams = features_importance[(features_importance.name.str.contains(\" \"))]\\\n",
    "    .sort_values(\"coefficient\", ascending=False).head(15)\n",
    "\n",
    "display_side_by_side(ctx_unigrams.set_index(\"name\"), ctx_bigrams.set_index(\"name\"))\n"
   ]
  },
  {
   "cell_type": "code",
   "execution_count": 264,
   "metadata": {},
   "outputs": [
    {
     "data": {
      "text/html": [
       "<table style=\"display:inline\" border=\"1\" class=\"dataframe\">\n",
       "  <thead>\n",
       "    <tr style=\"text-align: right;\">\n",
       "      <th></th>\n",
       "      <th>coefficient</th>\n",
       "    </tr>\n",
       "    <tr>\n",
       "      <th>name</th>\n",
       "      <th></th>\n",
       "    </tr>\n",
       "  </thead>\n",
       "  <tbody>\n",
       "    <tr>\n",
       "      <th>bywritten</th>\n",
       "      <td>-0.468206</td>\n",
       "    </tr>\n",
       "    <tr>\n",
       "      <th>boryspil</th>\n",
       "      <td>-0.348801</td>\n",
       "    </tr>\n",
       "    <tr>\n",
       "      <th>energia</th>\n",
       "      <td>-0.346985</td>\n",
       "    </tr>\n",
       "    <tr>\n",
       "      <th>mixtape</th>\n",
       "      <td>-0.346800</td>\n",
       "    </tr>\n",
       "    <tr>\n",
       "      <th>eswatini</th>\n",
       "      <td>-0.306014</td>\n",
       "    </tr>\n",
       "    <tr>\n",
       "      <th>duggar</th>\n",
       "      <td>-0.303022</td>\n",
       "    </tr>\n",
       "    <tr>\n",
       "      <th>bvmi</th>\n",
       "      <td>-0.295571</td>\n",
       "    </tr>\n",
       "    <tr>\n",
       "      <th>rashtriya</th>\n",
       "      <td>-0.293326</td>\n",
       "    </tr>\n",
       "    <tr>\n",
       "      <th>starred</th>\n",
       "      <td>-0.265236</td>\n",
       "    </tr>\n",
       "    <tr>\n",
       "      <th>runway</th>\n",
       "      <td>-0.256793</td>\n",
       "    </tr>\n",
       "    <tr>\n",
       "      <th>trailer</th>\n",
       "      <td>-0.254020</td>\n",
       "    </tr>\n",
       "    <tr>\n",
       "      <th>corfu</th>\n",
       "      <td>-0.252237</td>\n",
       "    </tr>\n",
       "    <tr>\n",
       "      <th>competed</th>\n",
       "      <td>-0.251948</td>\n",
       "    </tr>\n",
       "    <tr>\n",
       "      <th>etihad</th>\n",
       "      <td>-0.238719</td>\n",
       "    </tr>\n",
       "    <tr>\n",
       "      <th>imdb</th>\n",
       "      <td>-0.237792</td>\n",
       "    </tr>\n",
       "  </tbody>\n",
       "</table style=\"display:inline\"><table style=\"display:inline\" border=\"1\" class=\"dataframe\">\n",
       "  <thead>\n",
       "    <tr style=\"text-align: right;\">\n",
       "      <th></th>\n",
       "      <th>coefficient</th>\n",
       "    </tr>\n",
       "    <tr>\n",
       "      <th>name</th>\n",
       "      <th></th>\n",
       "    </tr>\n",
       "  </thead>\n",
       "  <tbody>\n",
       "    <tr>\n",
       "      <th>millions total</th>\n",
       "      <td>-0.688878</td>\n",
       "    </tr>\n",
       "    <tr>\n",
       "      <th>rajasthan royals</th>\n",
       "      <td>-0.686450</td>\n",
       "    </tr>\n",
       "    <tr>\n",
       "      <th>$number$ bahrain</th>\n",
       "      <td>-0.634482</td>\n",
       "    </tr>\n",
       "    <tr>\n",
       "      <th>title air</th>\n",
       "      <td>-0.597099</td>\n",
       "    </tr>\n",
       "    <tr>\n",
       "      <th>ipl tournament</th>\n",
       "      <td>-0.591427</td>\n",
       "    </tr>\n",
       "    <tr>\n",
       "      <th>youtube spotlight</th>\n",
       "      <td>-0.571778</td>\n",
       "    </tr>\n",
       "    <tr>\n",
       "      <th>dvr $number$</th>\n",
       "      <td>-0.560112</td>\n",
       "    </tr>\n",
       "    <tr>\n",
       "      <th>female wrestlers</th>\n",
       "      <td>-0.545546</td>\n",
       "    </tr>\n",
       "    <tr>\n",
       "      <th>$number$ mali</th>\n",
       "      <td>-0.521459</td>\n",
       "    </tr>\n",
       "    <tr>\n",
       "      <th>bhutan $number$</th>\n",
       "      <td>-0.498512</td>\n",
       "    </tr>\n",
       "    <tr>\n",
       "      <th>$number$ somalia</th>\n",
       "      <td>-0.492692</td>\n",
       "    </tr>\n",
       "    <tr>\n",
       "      <th>succeeded presidency</th>\n",
       "      <td>-0.482997</td>\n",
       "    </tr>\n",
       "    <tr>\n",
       "      <th>ecuador $number$</th>\n",
       "      <td>-0.474138</td>\n",
       "    </tr>\n",
       "    <tr>\n",
       "      <th>details peak</th>\n",
       "      <td>-0.431810</td>\n",
       "    </tr>\n",
       "    <tr>\n",
       "      <th>$number$ died</th>\n",
       "      <td>-0.416037</td>\n",
       "    </tr>\n",
       "  </tbody>\n",
       "</table style=\"display:inline\">"
      ]
     },
     "metadata": {},
     "output_type": "display_data"
    }
   ],
   "source": [
    "ctx_unigrams = features_importance[(~features_importance.name.str.contains(\" \"))]\\\n",
    "    .sort_values(\"coefficient\", ascending=True).head(15)\n",
    "\n",
    "\n",
    "ctx_bigrams = features_importance[(features_importance.name.str.contains(\" \"))]\\\n",
    "    .sort_values(\"coefficient\", ascending=True).head(15)\n",
    "\n",
    "display_side_by_side(ctx_unigrams.set_index(\"name\"), ctx_bigrams.set_index(\"name\"))\n"
   ]
  },
  {
   "cell_type": "markdown",
   "metadata": {},
   "source": [
    "----------"
   ]
  },
  {
   "cell_type": "code",
   "execution_count": null,
   "metadata": {},
   "outputs": [],
   "source": []
  }
 ],
 "metadata": {
  "kernelspec": {
   "display_name": "PySpark - YARN (large)",
   "language": "python",
   "name": "spark_yarn_pyspark_large"
  },
  "language_info": {
   "codemirror_mode": {
    "name": "ipython",
    "version": 3
   },
   "file_extension": ".py",
   "mimetype": "text/x-python",
   "name": "python",
   "nbconvert_exporter": "python",
   "pygments_lexer": "ipython3",
   "version": "3.5.3"
  }
 },
 "nbformat": 4,
 "nbformat_minor": 2
}
