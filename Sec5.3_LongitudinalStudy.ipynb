{
 "cells": [
  {
   "cell_type": "code",
   "execution_count": 2,
   "metadata": {},
   "outputs": [],
   "source": [
    "import pyspark\n",
    "import re\n",
    "import pyspark.sql\n",
    "from pyspark.sql import *\n",
    "import pandas as pd\n",
    "import matplotlib.pyplot as plt\n",
    "from pyspark.sql.functions import *\n",
    "import json\n",
    "from pyspark.sql.types import *\n",
    "import builtins\n",
    "\n",
    "spark = sqlContext = SQLContext(sc)\n",
    "\n",
    "%matplotlib inline\n",
    "\n",
    "sc.addPyFile(\"/home/piccardi/libs/seaborn-0.9.0-py3.5.egg\")\n",
    "import seaborn as sns\n"
   ]
  },
  {
   "cell_type": "code",
   "execution_count": 2,
   "metadata": {},
   "outputs": [],
   "source": [
    "filter_30_days = \"event_time >= '2019-03-24' AND event_time <= '2019-04-20' AND page_id > 0\"\n",
    "anonymous_citationusage = spark.read.parquet(\"april_anonymous_citationusage.parquet\")\\\n",
    "                                            .where(filter_30_days).where(\"action <> 'pageLoad'\")\n",
    "pageloads_april = spark.read.parquet(\"april_anonymous_pageloads.parquet\")\\\n",
    "                                            .where(filter_30_days)\n",
    "unique_sessions = pageloads_april.select(\"session_token\").distinct()\n",
    "anonymous_citationusage.registerTempTable(\"anonymous_citationusage\")\n",
    "unique_sessions.registerTempTable(\"unique_sessions\")\n",
    "\n",
    "query = \"\"\"\n",
    "select anonymous_citationusage.* \n",
    "from anonymous_citationusage\n",
    "join unique_sessions\n",
    "on anonymous_citationusage.session_token = unique_sessions.session_token\n",
    "\"\"\"\n",
    "\n",
    "citationusage_april = spark.sql(query)"
   ]
  },
  {
   "cell_type": "code",
   "execution_count": 3,
   "metadata": {},
   "outputs": [],
   "source": [
    "filter_30_days = \"event_time >= '2018-09-26' AND event_time <= '2018-10-24' AND page_id > 0\"\n",
    "anonymous_citationusage = spark.read.parquet(\"anonymous_citationusage.parquet\")\\\n",
    "                                            .where(filter_30_days).where(\"action <> 'pageLoad'\")\n",
    "pageloads_october = spark.read.parquet(\"anonymous_pageloads.parquet\")\\\n",
    "                                            .where(filter_30_days)\n",
    "\n",
    "unique_sessions = pageloads_october.select(\"session_id\").distinct()\n",
    "anonymous_citationusage.registerTempTable(\"anonymous_citationusage\")\n",
    "unique_sessions.registerTempTable(\"unique_sessions\")\n",
    "\n",
    "query = \"\"\"\n",
    "select anonymous_citationusage.*\n",
    "from anonymous_citationusage\n",
    "join unique_sessions\n",
    "on anonymous_citationusage.session_id = unique_sessions.session_id\n",
    "\"\"\"\n",
    "\n",
    "citationusage_october = spark.sql(query)"
   ]
  },
  {
   "cell_type": "code",
   "execution_count": 4,
   "metadata": {},
   "outputs": [
    {
     "data": {
      "text/plain": [
       "DataFrame[page_id: bigint, pageviews: bigint, pageviews_with_clicks: bigint, page_ct: double]"
      ]
     },
     "execution_count": 4,
     "metadata": {},
     "output_type": "execute_result"
    }
   ],
   "source": [
    "# Select the clicks or references\n",
    "reference_clicks = citationusage_april.where(\"action='extClick' and footnote_number is not null\")\n",
    "\n",
    "# Count the number of unique loads (distinct in one session)\n",
    "pageviews_count = pageloads_april.groupBy(\"page_id\").agg(countDistinct(\"session_token\").alias(\"pageviews\"))\n",
    "\n",
    "# Count in how many loads there is at least 1 click\n",
    "pageviews_with_clicks = reference_clicks.groupBy(\"page_id\")\\\n",
    "                        .agg(countDistinct(\"session_token\").alias(\"pageviews_with_clicks\"))\n",
    "\n",
    "\n",
    "pageviews_count.registerTempTable(\"pageviews_count\")\n",
    "pageviews_with_clicks.registerTempTable(\"pageviews_with_clicks\")\n",
    "\n",
    "query = \"\"\"\n",
    "SELECT pv.*, CASE WHEN pc.page_id is NULL THEN 0 ELSE pageviews_with_clicks END as pageviews_with_clicks\n",
    "FROM pageviews_count pv\n",
    "LEFT JOIN pageviews_with_clicks pc\n",
    "ON pv.page_id = pc.page_id\n",
    "\"\"\"\n",
    "\n",
    "pages_ct_april = spark.sql(query).selectExpr(\"*\", \"pageviews_with_clicks/pageviews as page_ct\")\n",
    "pages_ct_april.cache()"
   ]
  },
  {
   "cell_type": "code",
   "execution_count": 5,
   "metadata": {},
   "outputs": [
    {
     "data": {
      "text/plain": [
       "DataFrame[page_id: bigint, pageviews: bigint, pageviews_with_clicks: bigint, page_ct: double]"
      ]
     },
     "execution_count": 5,
     "metadata": {},
     "output_type": "execute_result"
    }
   ],
   "source": [
    "# Select the clicks or references\n",
    "reference_clicks = citationusage_october.where(\"action='extClick' and footnote_number is not null\")\n",
    "\n",
    "# Count the number of unique loads (distinct in one session)\n",
    "pageviews_count = pageloads_october.groupBy(\"page_id\").agg(countDistinct(\"session_id\").alias(\"pageviews\"))\n",
    "\n",
    "# Count in how many loads there is at least 1 click\n",
    "pageviews_with_clicks = reference_clicks.groupBy(\"page_id\")\\\n",
    "                        .agg(countDistinct(\"session_id\").alias(\"pageviews_with_clicks\"))\n",
    "\n",
    "\n",
    "pageviews_count.registerTempTable(\"pageviews_count\")\n",
    "pageviews_with_clicks.registerTempTable(\"pageviews_with_clicks\")\n",
    "\n",
    "query = \"\"\"\n",
    "SELECT pv.*, CASE WHEN pc.page_id is NULL THEN 0 ELSE pageviews_with_clicks END as pageviews_with_clicks\n",
    "FROM pageviews_count pv\n",
    "LEFT JOIN pageviews_with_clicks pc\n",
    "ON pv.page_id = pc.page_id\n",
    "\"\"\"\n",
    "\n",
    "pages_ct_october = spark.sql(query).selectExpr(\"*\", \"pageviews_with_clicks/pageviews as page_ct\")\n",
    "pages_ct_october.cache()"
   ]
  },
  {
   "cell_type": "code",
   "execution_count": 6,
   "metadata": {},
   "outputs": [
    {
     "data": {
      "text/plain": [
       "DataFrame[page_id: bigint, revision_id: bigint, text: string, title: string]"
      ]
     },
     "execution_count": 6,
     "metadata": {},
     "output_type": "execute_result"
    }
   ],
   "source": [
    "wikicode_oct = spark.read.parquet(\"wikipedia_wikicode_oct2018.parquet\")\n",
    "wikicode_oct"
   ]
  },
  {
   "cell_type": "code",
   "execution_count": 7,
   "metadata": {},
   "outputs": [
    {
     "data": {
      "text/plain": [
       "DataFrame[page_id: bigint, wikicode: string, wikicode_len: bigint, title: string, revision_id: bigint, text_length: int, references_count: int, qualities_vector: vector, quality: map<string,double>, topics: map<string,double>, topics_vector: vector]"
      ]
     },
     "execution_count": 7,
     "metadata": {},
     "output_type": "execute_result"
    }
   ],
   "source": [
    "wikicode_apr = spark.read.parquet(\"features/wikipedia_apr2019.parquet\")\n",
    "wikicode_apr"
   ]
  },
  {
   "cell_type": "markdown",
   "metadata": {},
   "source": [
    "Get the difference"
   ]
  },
  {
   "cell_type": "code",
   "execution_count": 14,
   "metadata": {},
   "outputs": [
    {
     "data": {
      "text/plain": [
       "DataFrame[page_id: bigint, pageviews_oct: bigint, page_ct_oct: double, pageviews_apr: bigint, page_ct_apr: double, length_oct: int, length_apr: bigint]"
      ]
     },
     "execution_count": 14,
     "metadata": {},
     "output_type": "execute_result"
    }
   ],
   "source": [
    "growth_stats = pages_ct_october.alias(\"ct_oct\")\\\n",
    "    .join(pages_ct_april.alias(\"ct_apr\"), pages_ct_october.page_id==pages_ct_april.page_id)\\\n",
    "    .join(wikicode_oct.alias(\"wikicode_oct\"), pages_ct_october.page_id==wikicode_oct.page_id)\\\n",
    "    .join(wikicode_apr.alias(\"wikicode_apr\"), pages_ct_october.page_id==wikicode_apr.page_id)\\\n",
    "    .selectExpr(\"ct_oct.page_id\", \"ct_oct.pageviews as pageviews_oct\", \"ct_oct.page_ct as page_ct_oct\",\n",
    "               \"ct_apr.pageviews as pageviews_apr\", \"ct_apr.page_ct as page_ct_apr\",\n",
    "               \"length(wikicode_oct.text) as length_oct\", \"wikicode_apr.wikicode_len as length_apr\")\\\n",
    "    .cache()\n",
    "\n",
    "growth_stats"
   ]
  },
  {
   "cell_type": "code",
   "execution_count": 15,
   "metadata": {},
   "outputs": [
    {
     "data": {
      "text/plain": [
       "4902164"
      ]
     },
     "execution_count": 15,
     "metadata": {},
     "output_type": "execute_result"
    }
   ],
   "source": [
    "growth_stats.count()"
   ]
  },
  {
   "cell_type": "markdown",
   "metadata": {},
   "source": [
    "Limit to articles with at least 100 pageviews"
   ]
  },
  {
   "cell_type": "code",
   "execution_count": 16,
   "metadata": {},
   "outputs": [],
   "source": [
    "growth_stats100 = growth_stats.where(\"pageviews_oct>=100 and pageviews_apr>=100\")"
   ]
  },
  {
   "cell_type": "code",
   "execution_count": 17,
   "metadata": {},
   "outputs": [
    {
     "data": {
      "text/plain": [
       "966215"
      ]
     },
     "execution_count": 17,
     "metadata": {},
     "output_type": "execute_result"
    }
   ],
   "source": [
    "growth_stats100.count()"
   ]
  },
  {
   "cell_type": "code",
   "execution_count": 18,
   "metadata": {},
   "outputs": [
    {
     "name": "stdout",
     "output_type": "stream",
     "text": [
      "+-------+-------------+--------------------+-------------+--------------------+----------+----------+\n",
      "|page_id|pageviews_oct|         page_ct_oct|pageviews_apr|         page_ct_apr|length_oct|length_apr|\n",
      "+-------+-------------+--------------------+-------------+--------------------+----------+----------+\n",
      "|   1677|         6104| 4.91480996068152E-4|         6012|1.663339986693280...|     43955|     42710|\n",
      "|   1697|         7956|0.001508295625942...|         9421|0.001698333510243074|     23088|     24510|\n",
      "|   1806|        87381|6.179833144505098E-4|        88478|6.103212097922648E-4|    159828|    162743|\n",
      "|   1950|         6580|0.004407294832826748|         5714|0.004725236261813091|    182621|    185086|\n",
      "|   2250|          604|0.009933774834437087|          758|0.009234828496042216|     26290|     25929|\n",
      "|   2529|         1173|                 0.0|         1041|9.606147934678194E-4|     12228|     12776|\n",
      "|   2927|         7180|8.356545961002785E-4|         7029|5.690709916062028E-4|    141962|    181577|\n",
      "|   3764|        22755|3.955174686882004E-4|        16049|3.738550688516418...|     73467|     78336|\n",
      "|   4823|         5722|3.495281370150297E-4|         5605|                 0.0|     56678|     57597|\n",
      "|   5385|         3228|9.293680297397769E-4|         2981|0.003354579000335...|     12625|     13633|\n",
      "|   5556|         1229|0.013832384052074858|         1109|0.012623985572587917|     55911|     55096|\n",
      "|   6721|         1562|0.002560819462227913|         1263|0.001583531274742676|     46696|     47655|\n",
      "|   7225|          415|                 0.0|          525|0.001904761904761...|     10723|     10759|\n",
      "|   7279|         6117|0.002288703612882...|         4497| 0.00289081609962197|     21427|     22132|\n",
      "|   8075|         6171|                 0.0|         5435|3.679852805887764E-4|     29760|     30387|\n",
      "|   8484|         2564|0.001950078003120...|         2913|3.432887058015791...|     97338|     91218|\n",
      "|   9978|         3350|0.001194029850746...|         3641|8.239494644328481E-4|     33170|     33387|\n",
      "|  10422|          222|                 0.0|          376|                 0.0|     10417|     10467|\n",
      "|  10871|          636|0.007861635220125786|          621|0.004830917874396135|      7948|      8487|\n",
      "|  11619|          282|0.003546099290780...|          991|0.004036326942482341|     10340|      9926|\n",
      "+-------+-------------+--------------------+-------------+--------------------+----------+----------+\n",
      "only showing top 20 rows\n",
      "\n"
     ]
    }
   ],
   "source": [
    "growth_stats100.show()"
   ]
  },
  {
   "cell_type": "code",
   "execution_count": 36,
   "metadata": {},
   "outputs": [],
   "source": [
    "gs = growth_stats100.toPandas()"
   ]
  },
  {
   "cell_type": "code",
   "execution_count": 37,
   "metadata": {},
   "outputs": [
    {
     "data": {
      "text/html": [
       "<div>\n",
       "<table border=\"1\" class=\"dataframe\">\n",
       "  <thead>\n",
       "    <tr style=\"text-align: right;\">\n",
       "      <th></th>\n",
       "      <th>page_id</th>\n",
       "      <th>pageviews_oct</th>\n",
       "      <th>page_ct_oct</th>\n",
       "      <th>pageviews_apr</th>\n",
       "      <th>page_ct_apr</th>\n",
       "      <th>length_oct</th>\n",
       "      <th>length_apr</th>\n",
       "    </tr>\n",
       "  </thead>\n",
       "  <tbody>\n",
       "    <tr>\n",
       "      <th>0</th>\n",
       "      <td>1677</td>\n",
       "      <td>6104</td>\n",
       "      <td>0.000491</td>\n",
       "      <td>6012</td>\n",
       "      <td>0.000166</td>\n",
       "      <td>43955</td>\n",
       "      <td>42710</td>\n",
       "    </tr>\n",
       "    <tr>\n",
       "      <th>1</th>\n",
       "      <td>1697</td>\n",
       "      <td>7956</td>\n",
       "      <td>0.001508</td>\n",
       "      <td>9421</td>\n",
       "      <td>0.001698</td>\n",
       "      <td>23088</td>\n",
       "      <td>24510</td>\n",
       "    </tr>\n",
       "    <tr>\n",
       "      <th>2</th>\n",
       "      <td>1806</td>\n",
       "      <td>87381</td>\n",
       "      <td>0.000618</td>\n",
       "      <td>88478</td>\n",
       "      <td>0.000610</td>\n",
       "      <td>159828</td>\n",
       "      <td>162743</td>\n",
       "    </tr>\n",
       "    <tr>\n",
       "      <th>3</th>\n",
       "      <td>1950</td>\n",
       "      <td>6580</td>\n",
       "      <td>0.004407</td>\n",
       "      <td>5714</td>\n",
       "      <td>0.004725</td>\n",
       "      <td>182621</td>\n",
       "      <td>185086</td>\n",
       "    </tr>\n",
       "    <tr>\n",
       "      <th>4</th>\n",
       "      <td>2250</td>\n",
       "      <td>604</td>\n",
       "      <td>0.009934</td>\n",
       "      <td>758</td>\n",
       "      <td>0.009235</td>\n",
       "      <td>26290</td>\n",
       "      <td>25929</td>\n",
       "    </tr>\n",
       "  </tbody>\n",
       "</table>\n",
       "</div>"
      ],
      "text/plain": [
       "   page_id  pageviews_oct  page_ct_oct  pageviews_apr  page_ct_apr  \\\n",
       "0     1677           6104     0.000491           6012     0.000166   \n",
       "1     1697           7956     0.001508           9421     0.001698   \n",
       "2     1806          87381     0.000618          88478     0.000610   \n",
       "3     1950           6580     0.004407           5714     0.004725   \n",
       "4     2250            604     0.009934            758     0.009235   \n",
       "\n",
       "   length_oct  length_apr  \n",
       "0       43955       42710  \n",
       "1       23088       24510  \n",
       "2      159828      162743  \n",
       "3      182621      185086  \n",
       "4       26290       25929  "
      ]
     },
     "execution_count": 37,
     "metadata": {},
     "output_type": "execute_result"
    }
   ],
   "source": [
    "gs.head()"
   ]
  },
  {
   "cell_type": "code",
   "execution_count": 38,
   "metadata": {},
   "outputs": [
    {
     "data": {
      "text/plain": [
       "966215"
      ]
     },
     "execution_count": 38,
     "metadata": {},
     "output_type": "execute_result"
    }
   ],
   "source": [
    "len(gs)"
   ]
  },
  {
   "cell_type": "code",
   "execution_count": 39,
   "metadata": {},
   "outputs": [
    {
     "data": {
      "text/html": [
       "<div>\n",
       "<table border=\"1\" class=\"dataframe\">\n",
       "  <thead>\n",
       "    <tr style=\"text-align: right;\">\n",
       "      <th></th>\n",
       "      <th>page_id</th>\n",
       "      <th>pageviews_oct</th>\n",
       "      <th>page_ct_oct</th>\n",
       "      <th>pageviews_apr</th>\n",
       "      <th>page_ct_apr</th>\n",
       "      <th>length_oct</th>\n",
       "      <th>length_apr</th>\n",
       "    </tr>\n",
       "  </thead>\n",
       "  <tbody>\n",
       "    <tr>\n",
       "      <th>count</th>\n",
       "      <td>9.662150e+05</td>\n",
       "      <td>966215.000000</td>\n",
       "      <td>966215.000000</td>\n",
       "      <td>9.662150e+05</td>\n",
       "      <td>966215.000000</td>\n",
       "      <td>966215.000000</td>\n",
       "      <td>966215.000000</td>\n",
       "    </tr>\n",
       "    <tr>\n",
       "      <th>mean</th>\n",
       "      <td>1.496913e+07</td>\n",
       "      <td>1182.317329</td>\n",
       "      <td>0.004131</td>\n",
       "      <td>1.193693e+03</td>\n",
       "      <td>0.004130</td>\n",
       "      <td>17227.627786</td>\n",
       "      <td>17703.419372</td>\n",
       "    </tr>\n",
       "    <tr>\n",
       "      <th>std</th>\n",
       "      <td>1.709554e+07</td>\n",
       "      <td>4716.568081</td>\n",
       "      <td>0.007620</td>\n",
       "      <td>5.658095e+03</td>\n",
       "      <td>0.007523</td>\n",
       "      <td>22812.263353</td>\n",
       "      <td>23117.225455</td>\n",
       "    </tr>\n",
       "    <tr>\n",
       "      <th>min</th>\n",
       "      <td>1.200000e+01</td>\n",
       "      <td>100.000000</td>\n",
       "      <td>0.000000</td>\n",
       "      <td>1.000000e+02</td>\n",
       "      <td>0.000000</td>\n",
       "      <td>96.000000</td>\n",
       "      <td>83.000000</td>\n",
       "    </tr>\n",
       "    <tr>\n",
       "      <th>25%</th>\n",
       "      <td>1.461886e+06</td>\n",
       "      <td>178.000000</td>\n",
       "      <td>0.000000</td>\n",
       "      <td>1.820000e+02</td>\n",
       "      <td>0.000000</td>\n",
       "      <td>5489.000000</td>\n",
       "      <td>5669.000000</td>\n",
       "    </tr>\n",
       "    <tr>\n",
       "      <th>50%</th>\n",
       "      <td>6.217695e+06</td>\n",
       "      <td>334.000000</td>\n",
       "      <td>0.001097</td>\n",
       "      <td>3.400000e+02</td>\n",
       "      <td>0.001161</td>\n",
       "      <td>10132.000000</td>\n",
       "      <td>10440.000000</td>\n",
       "    </tr>\n",
       "    <tr>\n",
       "      <th>75%</th>\n",
       "      <td>2.585057e+07</td>\n",
       "      <td>839.000000</td>\n",
       "      <td>0.005391</td>\n",
       "      <td>8.520000e+02</td>\n",
       "      <td>0.005410</td>\n",
       "      <td>19654.000000</td>\n",
       "      <td>20231.000000</td>\n",
       "    </tr>\n",
       "    <tr>\n",
       "      <th>max</th>\n",
       "      <td>5.885397e+07</td>\n",
       "      <td>964136.000000</td>\n",
       "      <td>0.373585</td>\n",
       "      <td>1.917864e+06</td>\n",
       "      <td>0.574429</td>\n",
       "      <td>828329.000000</td>\n",
       "      <td>481391.000000</td>\n",
       "    </tr>\n",
       "  </tbody>\n",
       "</table>\n",
       "</div>"
      ],
      "text/plain": [
       "            page_id  pageviews_oct    page_ct_oct  pageviews_apr  \\\n",
       "count  9.662150e+05  966215.000000  966215.000000   9.662150e+05   \n",
       "mean   1.496913e+07    1182.317329       0.004131   1.193693e+03   \n",
       "std    1.709554e+07    4716.568081       0.007620   5.658095e+03   \n",
       "min    1.200000e+01     100.000000       0.000000   1.000000e+02   \n",
       "25%    1.461886e+06     178.000000       0.000000   1.820000e+02   \n",
       "50%    6.217695e+06     334.000000       0.001097   3.400000e+02   \n",
       "75%    2.585057e+07     839.000000       0.005391   8.520000e+02   \n",
       "max    5.885397e+07  964136.000000       0.373585   1.917864e+06   \n",
       "\n",
       "         page_ct_apr     length_oct     length_apr  \n",
       "count  966215.000000  966215.000000  966215.000000  \n",
       "mean        0.004130   17227.627786   17703.419372  \n",
       "std         0.007523   22812.263353   23117.225455  \n",
       "min         0.000000      96.000000      83.000000  \n",
       "25%         0.000000    5489.000000    5669.000000  \n",
       "50%         0.001161   10132.000000   10440.000000  \n",
       "75%         0.005410   19654.000000   20231.000000  \n",
       "max         0.574429  828329.000000  481391.000000  "
      ]
     },
     "execution_count": 39,
     "metadata": {},
     "output_type": "execute_result"
    }
   ],
   "source": [
    "gs.describe()"
   ]
  },
  {
   "cell_type": "markdown",
   "metadata": {},
   "source": [
    "-------\n",
    "Plotting"
   ]
  },
  {
   "cell_type": "code",
   "execution_count": 55,
   "metadata": {},
   "outputs": [],
   "source": [
    "means_oct = []\n",
    "means_apr = []\n",
    "means_diff = []\n",
    "\n",
    "rng = [e for e in np.arange(1, 10, 0.5)]\n",
    "\n",
    "import numpy as np\n",
    "for i in rng:\n",
    "    step = gs[(i*gs.length_oct<gs.length_apr) & (gs.page_ct_oct>0)&(gs.page_ct_apr>0)]\n",
    "    means_oct.append(step.page_ct_oct.mean())\n",
    "    means_apr.append(step.page_ct_apr.mean())\n",
    "    means_diff.append(step.page_ct_oct.mean()-step.page_ct_apr.mean())"
   ]
  },
  {
   "cell_type": "code",
   "execution_count": 54,
   "metadata": {},
   "outputs": [
    {
     "data": {
      "text/plain": [
       "<matplotlib.text.Text at 0x7f9641194908>"
      ]
     },
     "execution_count": 54,
     "metadata": {},
     "output_type": "execute_result"
    },
    {
     "data": {
      "image/png": "[encoded data removed]",
      "text/plain": [
       "<matplotlib.figure.Figure at 0x7f9641177160>"
      ]
     },
     "metadata": {},
     "output_type": "display_data"
    }
   ],
   "source": [
    "fig, ax = plt.subplots(1, 1, figsize=(10,6))\n",
    "\n",
    "\n",
    "ax.plot(rng, means_oct, linestyle='--', marker=\".\", color=\"orange\", label=\"Oct\")\n",
    "ax.plot(rng, means_apr, linestyle='--', marker=\"+\", color=\"blue\", label=\"Apr\")\n",
    "ax.legend()\n",
    "\n",
    "\n",
    "fig.suptitle('CT rate vs page views')\n",
    "\n",
    "plt.xlabel(\"Relative increment\")\n",
    "\n",
    "plt.ylabel('CT rate')\n"
   ]
  },
  {
   "cell_type": "code",
   "execution_count": 63,
   "metadata": {},
   "outputs": [
    {
     "name": "stdout",
     "output_type": "stream",
     "text": [
      "1917864\n",
      "14.466722624716493\n"
     ]
    }
   ],
   "source": [
    "import builtins\n",
    "import math\n",
    "max_pageviews = builtins.max(gs.pageviews_apr.max(), gs.pageviews_oct.max())\n",
    "print(max_pageviews)\n",
    "print(math.log(max_pageviews))"
   ]
  },
  {
   "cell_type": "markdown",
   "metadata": {},
   "source": [
    "Binning in logspace"
   ]
  },
  {
   "cell_type": "code",
   "execution_count": 69,
   "metadata": {},
   "outputs": [
    {
     "data": {
      "text/plain": [
       "array([  9.94843156e+01,   1.37570695e+02,   1.90237989e+02,\n",
       "         2.63068326e+02,   3.63780886e+02,   5.03050043e+02,\n",
       "         6.95636731e+02,   9.61952927e+02,   1.33022509e+03,\n",
       "         1.83948584e+03,   2.54371098e+03,   3.51754028e+03,\n",
       "         4.86418848e+03,   6.72638481e+03,   9.30150073e+03,\n",
       "         1.28624689e+04,   1.77867112e+04,   2.45961407e+04,\n",
       "         3.40124788e+04,   4.70337491e+04,   6.50400570e+04,\n",
       "         8.99398643e+04,   1.24372265e+05,   1.71986698e+05,\n",
       "         2.37829746e+05,   3.28880018e+05,   4.54787796e+05,\n",
       "         6.28897860e+05,   8.69663878e+05,   1.20260428e+06])"
      ]
     },
     "execution_count": 69,
     "metadata": {},
     "output_type": "execute_result"
    }
   ],
   "source": [
    "bins = np.logspace(4.6, 14, 30, base=2.718281828459045)\n",
    "bins"
   ]
  },
  {
   "cell_type": "code",
   "execution_count": 74,
   "metadata": {},
   "outputs": [
    {
     "data": {
      "text/html": [
       "<div>\n",
       "<table border=\"1\" class=\"dataframe\">\n",
       "  <thead>\n",
       "    <tr style=\"text-align: right;\">\n",
       "      <th></th>\n",
       "      <th>page_id</th>\n",
       "      <th>pageviews_oct</th>\n",
       "      <th>page_ct_oct</th>\n",
       "      <th>pageviews_apr</th>\n",
       "      <th>page_ct_apr</th>\n",
       "      <th>length_oct</th>\n",
       "      <th>length_apr</th>\n",
       "      <th>pageviews_apr_bin</th>\n",
       "      <th>pageviews_oct_bin</th>\n",
       "    </tr>\n",
       "  </thead>\n",
       "  <tbody>\n",
       "    <tr>\n",
       "      <th>0</th>\n",
       "      <td>1677</td>\n",
       "      <td>6104</td>\n",
       "      <td>0.000491</td>\n",
       "      <td>6012</td>\n",
       "      <td>0.000166</td>\n",
       "      <td>43955</td>\n",
       "      <td>42710</td>\n",
       "      <td>13</td>\n",
       "      <td>13</td>\n",
       "    </tr>\n",
       "    <tr>\n",
       "      <th>1</th>\n",
       "      <td>1697</td>\n",
       "      <td>7956</td>\n",
       "      <td>0.001508</td>\n",
       "      <td>9421</td>\n",
       "      <td>0.001698</td>\n",
       "      <td>23088</td>\n",
       "      <td>24510</td>\n",
       "      <td>15</td>\n",
       "      <td>14</td>\n",
       "    </tr>\n",
       "    <tr>\n",
       "      <th>2</th>\n",
       "      <td>1806</td>\n",
       "      <td>87381</td>\n",
       "      <td>0.000618</td>\n",
       "      <td>88478</td>\n",
       "      <td>0.000610</td>\n",
       "      <td>159828</td>\n",
       "      <td>162743</td>\n",
       "      <td>21</td>\n",
       "      <td>21</td>\n",
       "    </tr>\n",
       "    <tr>\n",
       "      <th>3</th>\n",
       "      <td>1950</td>\n",
       "      <td>6580</td>\n",
       "      <td>0.004407</td>\n",
       "      <td>5714</td>\n",
       "      <td>0.004725</td>\n",
       "      <td>182621</td>\n",
       "      <td>185086</td>\n",
       "      <td>13</td>\n",
       "      <td>13</td>\n",
       "    </tr>\n",
       "    <tr>\n",
       "      <th>4</th>\n",
       "      <td>2250</td>\n",
       "      <td>604</td>\n",
       "      <td>0.009934</td>\n",
       "      <td>758</td>\n",
       "      <td>0.009235</td>\n",
       "      <td>26290</td>\n",
       "      <td>25929</td>\n",
       "      <td>7</td>\n",
       "      <td>6</td>\n",
       "    </tr>\n",
       "  </tbody>\n",
       "</table>\n",
       "</div>"
      ],
      "text/plain": [
       "   page_id  pageviews_oct  page_ct_oct  pageviews_apr  page_ct_apr  \\\n",
       "0     1677           6104     0.000491           6012     0.000166   \n",
       "1     1697           7956     0.001508           9421     0.001698   \n",
       "2     1806          87381     0.000618          88478     0.000610   \n",
       "3     1950           6580     0.004407           5714     0.004725   \n",
       "4     2250            604     0.009934            758     0.009235   \n",
       "\n",
       "   length_oct  length_apr  pageviews_apr_bin  pageviews_oct_bin  \n",
       "0       43955       42710                 13                 13  \n",
       "1       23088       24510                 15                 14  \n",
       "2      159828      162743                 21                 21  \n",
       "3      182621      185086                 13                 13  \n",
       "4       26290       25929                  7                  6  "
      ]
     },
     "execution_count": 74,
     "metadata": {},
     "output_type": "execute_result"
    }
   ],
   "source": [
    "def get_bin(pv):\n",
    "    for i in range(1, len(bins)):\n",
    "        if pv >= bins[i-1] and pv < bins[i]:\n",
    "            return i\n",
    "    return -1\n",
    "\n",
    "gs[\"pageviews_apr_bin\"] = gs.pageviews_apr.apply(get_bin)\n",
    "gs[\"pageviews_oct_bin\"] = gs.pageviews_oct.apply(get_bin)\n",
    "\n",
    "gs.head()"
   ]
  },
  {
   "cell_type": "code",
   "execution_count": 77,
   "metadata": {},
   "outputs": [],
   "source": [
    "means_oct = []\n",
    "means_apr = []\n",
    "means_diff = []\n",
    "\n",
    "rng = [e for e in np.arange(1, 10, 1)]\n",
    "\n",
    "import numpy as np\n",
    "for i in rng:\n",
    "    step = gs[(i*gs.length_oct<gs.length_apr) & (gs.page_ct_oct>0)\n",
    "              &(gs.page_ct_apr>0) & (gs.pageviews_oct_bin==gs.pageviews_apr_bin)]\n",
    "    means_oct.append(step.page_ct_oct.mean())\n",
    "    means_apr.append(step.page_ct_apr.mean())\n",
    "    means_diff.append(step.page_ct_oct.mean()-step.page_ct_apr.mean())"
   ]
  },
  {
   "cell_type": "code",
   "execution_count": 78,
   "metadata": {},
   "outputs": [
    {
     "data": {
      "text/plain": [
       "<matplotlib.text.Text at 0x7f9664572630>"
      ]
     },
     "execution_count": 78,
     "metadata": {},
     "output_type": "execute_result"
    },
    {
     "data": {
      "image/png": "[encoded data removed]",
      "text/plain": [
       "<matplotlib.figure.Figure at 0x7f965e26eb70>"
      ]
     },
     "metadata": {},
     "output_type": "display_data"
    }
   ],
   "source": [
    "fig, ax = plt.subplots(1, 1, figsize=(10,6))\n",
    "\n",
    "\n",
    "ax.plot(rng, means_oct, linestyle='--', marker=\".\", color=\"orange\", label=\"Oct\")\n",
    "ax.plot(rng, means_apr, linestyle='--', marker=\"+\", color=\"blue\", label=\"Apr\")\n",
    "ax.legend()\n",
    "\n",
    "\n",
    "fig.suptitle('CT rate vs page views')\n",
    "\n",
    "plt.xlabel(\"Relative increment\")\n",
    "\n",
    "plt.ylabel('CT rate')\n"
   ]
  },
  {
   "cell_type": "code",
   "execution_count": 8,
   "metadata": {},
   "outputs": [],
   "source": [
    "from scipy.stats import binned_statistic\n",
    "import numpy as np\n",
    "import builtins\n",
    "import math\n",
    "\n",
    "def get_stats(bin_samples, stat_type=\"mean\"):\n",
    "    if len(bin_samples)<1:\n",
    "        return \n",
    "    means_list = []\n",
    "    for i in range(0, 100):\n",
    "        samples = np.random.choice(bin_samples, size=len(bin_samples))\n",
    "        means_list.append(np.mean(samples))\n",
    "    means_list = sorted(means_list)\n",
    "    if stat_type==\"mean\":\n",
    "        return means_list[len(means_list)//2]\n",
    "    elif stat_type==\"left\":\n",
    "        left_index = int(0.05*len(means_list))\n",
    "        return means_list[left_index]\n",
    "    elif stat_type==\"right\":\n",
    "        right_index = builtins.min(len(means_list)-1, math.ceil(0.95*len(means_list)))\n",
    "        return means_list[right_index]\n",
    "    \n",
    "def get_stats_median(bin_samples, stat_type=\"median\"):\n",
    "    if len(bin_samples)<1:\n",
    "        return \n",
    "    median_list = []\n",
    "    for i in range(0, 100):\n",
    "        samples = np.random.choice(bin_samples, size=len(bin_samples))\n",
    "        median_list.append(np.median(samples))\n",
    "    median_list = sorted(median_list)\n",
    "    if stat_type==\"median\":\n",
    "        return median_list[len(median_list)//2]\n",
    "    elif stat_type==\"left\":\n",
    "        left_index = int(0.05*len(median_list))\n",
    "        return median_list[left_index]\n",
    "    elif stat_type==\"right\":\n",
    "        right_index = builtins.min(len(median_list)-1, math.ceil(0.95*len(median_list)))\n",
    "        return median_list[right_index]\n"
   ]
  },
  {
   "cell_type": "code",
   "execution_count": 111,
   "metadata": {},
   "outputs": [
    {
     "name": "stdout",
     "output_type": "stream",
     "text": [
      "[120619, 6327, 2670, 1572, 1054, 762, 579, 468, 386, 297, 242, 212, 182, 155, 130, 109]\n"
     ]
    },
    {
     "data": {
      "text/plain": [
       "<matplotlib.text.Text at 0x7f967fef0390>"
      ]
     },
     "execution_count": 111,
     "metadata": {},
     "output_type": "execute_result"
    },
    {
     "data": {
      "image/png": "[encoded data removed]",
      "text/plain": [
       "<matplotlib.figure.Figure at 0x7f967fee8c18>"
      ]
     },
     "metadata": {},
     "output_type": "display_data"
    }
   ],
   "source": [
    "rng = [e for e in np.arange(1, 5, 0.25)]\n",
    "\n",
    "mean_oct = []\n",
    "mean_apr = []\n",
    "\n",
    "left_oct = []\n",
    "left_apr = []\n",
    "\n",
    "right_oct = []\n",
    "right_apr = []\n",
    "\n",
    "samples = []\n",
    "\n",
    "import numpy as np\n",
    "for i in rng:\n",
    "    step = gs[(i*gs.length_oct<gs.length_apr) & (gs.page_ct_oct>0)\n",
    "              &(gs.page_ct_apr>0) & (gs.pageviews_oct_bin==gs.pageviews_apr_bin)]\n",
    "    samples.append(len(step))\n",
    "    mean_oct.append(get_stats(step.page_ct_oct, \"mean\"))\n",
    "    left_oct.append(get_stats(step.page_ct_oct, \"left\"))\n",
    "    right_oct.append(get_stats(step.page_ct_oct, \"right\"))\n",
    "    mean_apr.append(get_stats(step.page_ct_apr, \"mean\"))\n",
    "    left_apr.append(get_stats(step.page_ct_apr, \"left\"))\n",
    "    right_apr.append(get_stats(step.page_ct_apr, \"right\"))\n",
    "    \n",
    "print(samples)\n",
    "fig, ax = plt.subplots(1, 1, figsize=(10,6))\n",
    "ax.plot(rng, mean_oct, linestyle='--', marker=\".\", color=\"orange\", label=\"October\")\n",
    "ax.fill_between(rng, left_oct,right_oct, color = 'orange',alpha = 0.1)\n",
    "ax.plot(rng, mean_apr, linestyle='--', marker=\"+\", color=\"blue\", label=\"April\")\n",
    "ax.fill_between(rng, left_apr,right_apr, color = 'blue',alpha = 0.1)\n",
    "ax.legend()\n",
    "fig.suptitle('CT rate vs page views')\n",
    "plt.xlabel(\"Relative increment\")\n",
    "plt.ylabel('CT rate')"
   ]
  },
  {
   "cell_type": "code",
   "execution_count": 121,
   "metadata": {},
   "outputs": [
    {
     "data": {
      "text/html": [
       "<div>\n",
       "<table border=\"1\" class=\"dataframe\">\n",
       "  <thead>\n",
       "    <tr style=\"text-align: right;\">\n",
       "      <th></th>\n",
       "      <th>page_id</th>\n",
       "      <th>pageviews_oct</th>\n",
       "      <th>page_ct_oct</th>\n",
       "      <th>pageviews_apr</th>\n",
       "      <th>page_ct_apr</th>\n",
       "      <th>length_oct</th>\n",
       "      <th>length_apr</th>\n",
       "      <th>pageviews_apr_bin</th>\n",
       "      <th>pageviews_oct_bin</th>\n",
       "      <th>variation</th>\n",
       "    </tr>\n",
       "  </thead>\n",
       "  <tbody>\n",
       "    <tr>\n",
       "      <th>0</th>\n",
       "      <td>1677</td>\n",
       "      <td>6104</td>\n",
       "      <td>0.000491</td>\n",
       "      <td>6012</td>\n",
       "      <td>0.000166</td>\n",
       "      <td>43955</td>\n",
       "      <td>42710</td>\n",
       "      <td>13</td>\n",
       "      <td>13</td>\n",
       "      <td>0.971676</td>\n",
       "    </tr>\n",
       "    <tr>\n",
       "      <th>1</th>\n",
       "      <td>1697</td>\n",
       "      <td>7956</td>\n",
       "      <td>0.001508</td>\n",
       "      <td>9421</td>\n",
       "      <td>0.001698</td>\n",
       "      <td>23088</td>\n",
       "      <td>24510</td>\n",
       "      <td>15</td>\n",
       "      <td>14</td>\n",
       "      <td>1.061590</td>\n",
       "    </tr>\n",
       "    <tr>\n",
       "      <th>2</th>\n",
       "      <td>1806</td>\n",
       "      <td>87381</td>\n",
       "      <td>0.000618</td>\n",
       "      <td>88478</td>\n",
       "      <td>0.000610</td>\n",
       "      <td>159828</td>\n",
       "      <td>162743</td>\n",
       "      <td>21</td>\n",
       "      <td>21</td>\n",
       "      <td>1.018238</td>\n",
       "    </tr>\n",
       "    <tr>\n",
       "      <th>3</th>\n",
       "      <td>1950</td>\n",
       "      <td>6580</td>\n",
       "      <td>0.004407</td>\n",
       "      <td>5714</td>\n",
       "      <td>0.004725</td>\n",
       "      <td>182621</td>\n",
       "      <td>185086</td>\n",
       "      <td>13</td>\n",
       "      <td>13</td>\n",
       "      <td>1.013498</td>\n",
       "    </tr>\n",
       "    <tr>\n",
       "      <th>4</th>\n",
       "      <td>2250</td>\n",
       "      <td>604</td>\n",
       "      <td>0.009934</td>\n",
       "      <td>758</td>\n",
       "      <td>0.009235</td>\n",
       "      <td>26290</td>\n",
       "      <td>25929</td>\n",
       "      <td>7</td>\n",
       "      <td>6</td>\n",
       "      <td>0.986269</td>\n",
       "    </tr>\n",
       "  </tbody>\n",
       "</table>\n",
       "</div>"
      ],
      "text/plain": [
       "   page_id  pageviews_oct  page_ct_oct  pageviews_apr  page_ct_apr  \\\n",
       "0     1677           6104     0.000491           6012     0.000166   \n",
       "1     1697           7956     0.001508           9421     0.001698   \n",
       "2     1806          87381     0.000618          88478     0.000610   \n",
       "3     1950           6580     0.004407           5714     0.004725   \n",
       "4     2250            604     0.009934            758     0.009235   \n",
       "\n",
       "   length_oct  length_apr  pageviews_apr_bin  pageviews_oct_bin  variation  \n",
       "0       43955       42710                 13                 13   0.971676  \n",
       "1       23088       24510                 15                 14   1.061590  \n",
       "2      159828      162743                 21                 21   1.018238  \n",
       "3      182621      185086                 13                 13   1.013498  \n",
       "4       26290       25929                  7                  6   0.986269  "
      ]
     },
     "execution_count": 121,
     "metadata": {},
     "output_type": "execute_result"
    }
   ],
   "source": [
    "gs['variation'] = (gs['length_apr']/gs['length_oct'])\n",
    "gs.head()"
   ]
  },
  {
   "cell_type": "code",
   "execution_count": 4,
   "metadata": {},
   "outputs": [],
   "source": [
    "import numpy as np\n",
    "rng = np.logspace(0, 1.5, 10, base=2.718281828459045)"
   ]
  },
  {
   "cell_type": "code",
   "execution_count": 5,
   "metadata": {},
   "outputs": [],
   "source": [
    "labels = rng[:-1]\n",
    "gs[\"variation_bin\"] = pd.cut(gs.variation, bins=rng, labels=labels)\n",
    "gs[\"ct_diff\"] = gs[\"page_ct_apr\"]-gs[\"page_ct_oct\"]\n",
    "gs[\"ct_diff_ratio\"] = gs[\"page_ct_apr\"]/gs[\"page_ct_oct\"]"
   ]
  },
  {
   "cell_type": "code",
   "execution_count": 6,
   "metadata": {},
   "outputs": [],
   "source": [
    "gs_limited = gs[(gs.length_apr>gs.length_oct) & (gs.page_ct_oct>0) & (gs.page_ct_apr>0) \n",
    "                & (gs.pageviews_oct_bin==gs.pageviews_apr_bin)].dropna()"
   ]
  },
  {
   "cell_type": "markdown",
   "metadata": {},
   "source": [
    "#### Relative increment vs CT rate"
   ]
  },
  {
   "cell_type": "code",
   "execution_count": 10,
   "metadata": {},
   "outputs": [
    {
     "name": "stdout",
     "output_type": "stream",
     "text": [
      "[111434, 5579, 1699, 775, 404, 252, 170, 99]\n"
     ]
    },
    {
     "data": {
      "text/plain": [
       "<matplotlib.text.Text at 0x7fa33e6b3e10>"
      ]
     },
     "execution_count": 10,
     "metadata": {},
     "output_type": "execute_result"
    },
    {
     "data": {
      "image/png": "[encoded data removed]",
      "text/plain": [
       "<matplotlib.figure.Figure at 0x7fa33dd9df60>"
      ]
     },
     "metadata": {},
     "output_type": "display_data"
    }
   ],
   "source": [
    "rng = rng[:-1]\n",
    "\n",
    "mean_diff = []\n",
    "left_diff = []\n",
    "right_diff = []\n",
    "\n",
    "samples = []\n",
    "\n",
    "import numpy as np\n",
    "for i in rng:\n",
    "    step = gs_limited[gs_limited.variation_bin==i]\n",
    "    samples.append(len(step))\n",
    "    mean_diff.append(get_stats(step.ct_diff_ratio, \"mean\"))\n",
    "    left_diff.append(get_stats(step.ct_diff_ratio, \"left\"))\n",
    "    right_diff.append(get_stats(step.ct_diff_ratio, \"right\"))\n",
    "    \n",
    "print(samples)\n",
    "fig, ax = plt.subplots(1, 1, figsize=(10,6))\n",
    "ax.plot(rng, mean_diff, linestyle='--', marker=\".\", color=\"orange\", label=\"CT Diff\")\n",
    "ax.fill_between(rng, left_diff, right_diff, color = 'orange',alpha = 0.1)\n",
    "ax.legend()\n",
    "fig.suptitle('CT rate vs relative increment')\n",
    "plt.xlabel(\"Relative increment\")\n",
    "plt.ylabel('CT rate diff ratio')"
   ]
  },
  {
   "cell_type": "code",
   "execution_count": 9,
   "metadata": {},
   "outputs": [],
   "source": [
    "mean_oct = []\n",
    "mean_apr = []\n",
    "\n",
    "left_oct = []\n",
    "left_apr = []\n",
    "\n",
    "right_oct = []\n",
    "right_apr = []\n",
    "\n",
    "samples = []\n",
    "\n",
    "increment = []\n",
    "\n",
    "import numpy as np\n",
    "for b in sorted(gs_limited.variation_bin.unique()):\n",
    "    step = gs_limited[gs_limited.variation_bin==b]\n",
    "    samples.append(len(step))\n",
    "    increment.append(b)\n",
    "    mean_oct.append(get_stats(step.page_ct_oct, \"mean\"))\n",
    "    left_oct.append(get_stats(step.page_ct_oct, \"left\"))\n",
    "    right_oct.append(get_stats(step.page_ct_oct, \"right\"))\n",
    "    mean_apr.append(get_stats(step.page_ct_apr, \"mean\"))\n",
    "    left_apr.append(get_stats(step.page_ct_apr, \"left\"))\n",
    "    right_apr.append(get_stats(step.page_ct_apr, \"right\"))\n",
    "\n"
   ]
  },
  {
   "cell_type": "code",
   "execution_count": 21,
   "metadata": {},
   "outputs": [
    {
     "name": "stdout",
     "output_type": "stream",
     "text": [
      "[0.0068607484446679993, 0.0084445256317712564, 0.0092904799594001782, 0.010108644277650375, 0.010228541187764874, 0.010923340229424174, 0.0098445057678816419, 0.010774173081677812, 0.013657344490052707]\n",
      "[0.0068898968003457016, 0.0085055812383736367, 0.0087340610146153207, 0.0092314265851527397, 0.0090700516031585274, 0.0091402580835049374, 0.0083664677363388153, 0.0077432168754613387, 0.0097858025108990623]\n"
     ]
    }
   ],
   "source": [
    "print(mean_oct)\n",
    "print(mean_apr)"
   ]
  },
  {
   "cell_type": "code",
   "execution_count": 261,
   "metadata": {},
   "outputs": [
    {
     "data": {
      "text/plain": [
       "120488"
      ]
     },
     "execution_count": 261,
     "metadata": {},
     "output_type": "execute_result"
    }
   ],
   "source": [
    "len(gs_limited)"
   ]
  },
  {
   "cell_type": "code",
   "execution_count": 97,
   "metadata": {},
   "outputs": [
    {
     "data": {
      "text/html": [
       "<div>\n",
       "<table border=\"1\" class=\"dataframe\">\n",
       "  <thead>\n",
       "    <tr style=\"text-align: right;\">\n",
       "      <th></th>\n",
       "      <th>page_id</th>\n",
       "      <th>pageviews_oct</th>\n",
       "      <th>page_ct_oct</th>\n",
       "      <th>pageviews_apr</th>\n",
       "      <th>page_ct_apr</th>\n",
       "      <th>length_oct</th>\n",
       "      <th>length_apr</th>\n",
       "      <th>pageviews_apr_bin</th>\n",
       "      <th>pageviews_oct_bin</th>\n",
       "      <th>variation</th>\n",
       "      <th>variation_bin</th>\n",
       "      <th>ct_diff</th>\n",
       "      <th>ct_diff_ratio</th>\n",
       "    </tr>\n",
       "  </thead>\n",
       "  <tbody>\n",
       "    <tr>\n",
       "      <th>2</th>\n",
       "      <td>1806</td>\n",
       "      <td>87381</td>\n",
       "      <td>0.000618</td>\n",
       "      <td>88478</td>\n",
       "      <td>0.00061</td>\n",
       "      <td>159828</td>\n",
       "      <td>162743</td>\n",
       "      <td>21</td>\n",
       "      <td>21</td>\n",
       "      <td>1.018238</td>\n",
       "      <td>1.0</td>\n",
       "      <td>-0.000008</td>\n",
       "      <td>0.987601</td>\n",
       "    </tr>\n",
       "  </tbody>\n",
       "</table>\n",
       "</div>"
      ],
      "text/plain": [
       "   page_id  pageviews_oct  page_ct_oct  pageviews_apr  page_ct_apr  \\\n",
       "2     1806          87381     0.000618          88478      0.00061   \n",
       "\n",
       "   length_oct  length_apr  pageviews_apr_bin  pageviews_oct_bin  variation  \\\n",
       "2      159828      162743                 21                 21   1.018238   \n",
       "\n",
       "  variation_bin   ct_diff  ct_diff_ratio  \n",
       "2           1.0 -0.000008       0.987601  "
      ]
     },
     "execution_count": 97,
     "metadata": {},
     "output_type": "execute_result"
    }
   ],
   "source": [
    "gs_limited.head(1)"
   ]
  },
  {
   "cell_type": "code",
   "execution_count": 18,
   "metadata": {},
   "outputs": [
    {
     "data": {
      "text/plain": [
       "120488"
      ]
     },
     "execution_count": 18,
     "metadata": {},
     "output_type": "execute_result"
    }
   ],
   "source": [
    "len(gs_limited)"
   ]
  },
  {
   "cell_type": "markdown",
   "metadata": {},
   "source": [
    "Difference of pageviews in every bin"
   ]
  },
  {
   "cell_type": "code",
   "execution_count": 13,
   "metadata": {},
   "outputs": [
    {
     "data": {
      "text/plain": [
       "<matplotlib.figure.Figure at 0x7fa34962db70>"
      ]
     },
     "metadata": {},
     "output_type": "display_data"
    },
    {
     "data": {
      "image/png": "[encoded data removed]",
      "text/plain": [
       "<matplotlib.figure.Figure at 0x7fa33e610e80>"
      ]
     },
     "metadata": {},
     "output_type": "display_data"
    }
   ],
   "source": [
    "mean_oct = []\n",
    "mean_apr = []\n",
    "\n",
    "left_oct = []\n",
    "left_apr = []\n",
    "\n",
    "right_oct = []\n",
    "right_apr = []\n",
    "\n",
    "samples = []\n",
    "\n",
    "increment = []\n",
    "\n",
    "import numpy as np\n",
    "for b in sorted(gs_limited.variation_bin.unique()):\n",
    "    step = gs_limited[gs_limited.variation_bin==b]\n",
    "    samples.append(len(step))\n",
    "    increment.append(b)\n",
    "    mean_oct.append(get_stats_median(step.pageviews_oct, \"median\"))\n",
    "    left_oct.append(get_stats_median(step.pageviews_oct, \"left\"))\n",
    "    right_oct.append(get_stats_median(step.pageviews_oct, \"right\"))\n",
    "    mean_apr.append(get_stats_median(step.pageviews_apr, \"median\"))\n",
    "    left_apr.append(get_stats_median(step.pageviews_apr, \"left\"))\n",
    "    right_apr.append(get_stats_median(step.pageviews_apr, \"right\"))\n",
    "\n",
    "plt.figure(figsize=(5, 3), frameon=False)\n",
    "\n",
    "sns.set_context(\"paper\")\n",
    "sns.set(font_scale = 1.1)\n",
    "sns.set_style(\"white\", {\n",
    "    \"font.family\": \"sans-serif\",\n",
    "    \"font.serif\": ['Helvetica'],\n",
    "    \"font.scale\": 2\n",
    "})\n",
    "sns.set_style(\"ticks\", {\"xtick.major.size\": 4,\n",
    "                        \"ytick.major.size\": 4})\n",
    "\n",
    "\n",
    "fig, ax = plt.subplots(1, 1, figsize=(10,6))\n",
    "ax.spines['right'].set_visible(False)\n",
    "ax.spines['top'].set_visible(False)\n",
    "\n",
    "ax.plot(increment, mean_oct, linestyle='--', marker=\".\", color=\"orange\", label=\"October 2018\")\n",
    "ax.fill_between(increment, left_oct,right_oct, color = 'orange',alpha = 0.1)\n",
    "ax.plot(increment, mean_apr, linestyle='--', marker=\"+\", color=\"blue\", label=\"April 2019\")\n",
    "ax.fill_between(increment, left_apr,right_apr, color = 'blue',alpha = 0.1)\n",
    "ax.legend()\n",
    "# fig.suptitle('CT rate vs page views')\n",
    "plt.xlabel(\"Relative increment in length\")\n",
    "plt.ylabel('Page views')\n",
    "\n",
    "leg = plt.legend()\n",
    "leg.get_frame().set_linewidth(0.0)\n",
    "plt.tight_layout()\n",
    "\n",
    "# plt.savefig('oct_apr_diff.pdf', bbox_inches='tight')\n"
   ]
  },
  {
   "cell_type": "code",
   "execution_count": 33,
   "metadata": {},
   "outputs": [],
   "source": [
    "def get_pageloads_median():\n",
    "    mean_oct = []\n",
    "    mean_apr = []\n",
    "\n",
    "    left_oct = []\n",
    "    left_apr = []\n",
    "\n",
    "    right_oct = []\n",
    "    right_apr = []\n",
    "\n",
    "    samples = []\n",
    "\n",
    "    increment = []\n",
    "\n",
    "    import numpy as np\n",
    "    for b in sorted(gs_limited.variation_bin.unique()):\n",
    "        step = gs_limited[gs_limited.variation_bin==b]\n",
    "        samples.append(len(step))\n",
    "        increment.append(b)\n",
    "        mean_oct.append(get_stats(step.pageviews_oct, \"mean\"))\n",
    "        left_oct.append(get_stats(step.pageviews_oct, \"left\"))\n",
    "        right_oct.append(get_stats(step.pageviews_oct, \"right\"))\n",
    "        mean_apr.append(get_stats(step.pageviews_apr, \"mean\"))\n",
    "        left_apr.append(get_stats(step.pageviews_apr, \"left\"))\n",
    "        right_apr.append(get_stats(step.pageviews_apr, \"right\"))\n",
    "    return mean_oct, left_oct, right_oct, mean_apr, left_apr, right_apr"
   ]
  },
  {
   "cell_type": "code",
   "execution_count": 95,
   "metadata": {},
   "outputs": [
    {
     "data": {
      "image/png": "[encoded data removed]",
      "text/plain": [
       "<matplotlib.figure.Figure at 0x7fa2e57a71d0>"
      ]
     },
     "metadata": {},
     "output_type": "display_data"
    }
   ],
   "source": [
    "# plt.figure(figsize=(10, 6), frameon=False)\n",
    "\n",
    "sns.set_context(\"paper\")\n",
    "sns.set(font_scale = 1.1)\n",
    "sns.set_style(\"white\", {\n",
    "    \"font.family\": \"sans-serif\",\n",
    "    \"font.serif\": ['Helvetica'],\n",
    "    \"font.scale\": 2\n",
    "})\n",
    "sns.set_style(\"ticks\", {\"xtick.major.size\": 4,\n",
    "                        \"ytick.major.size\": 4})\n",
    "\n",
    "\n",
    "fig = plt.figure(figsize=(10, 6), frameon=False)\n",
    "ax1 = fig.add_axes([0.1, 0.1, 0.8, 0.8])\n",
    "ax2 = fig.add_axes([0.2, 0.61, 0.26, 0.26])\n",
    "\n",
    "\n",
    "# pv_mean_oct, pv_left_oct, pv_right_oct, pv_mean_apr, pv_left_apr, pv_right_apr = get_pageloads_median()\n",
    "\n",
    "ax2.plot(increment, pv_mean_oct, linestyle='--', marker=\".\", color=\"green\", label=\"October 2018\", alpha = 0.5)\n",
    "ax2.fill_between(increment, pv_left_oct, pv_right_oct, color = 'green',alpha = 0.05)\n",
    "ax2.plot(increment, pv_mean_apr, linestyle='--', marker=\"+\", color=\"purple\", label=\"April 2019\", alpha = 0.5)\n",
    "ax2.fill_between(increment, pv_left_apr,pv_right_apr, color = 'purple',alpha = 0.05)\n",
    "\n",
    "ax2.spines['right'].set_visible(False)\n",
    "ax2.spines['top'].set_visible(False)\n",
    "\n",
    "ax2.set_xlabel(\"Relative increment in length\")\n",
    "ax2.set_ylabel('Page views')\n",
    "\n",
    "\n",
    "\n",
    "ax1.spines['right'].set_visible(False)\n",
    "ax1.spines['top'].set_visible(False)\n",
    "\n",
    "ax1.plot(increment, mean_oct, linestyle='--', marker=\".\", color=\"green\", label=\"October 2018\")\n",
    "ax1.fill_between(increment, left_oct,right_oct, color = 'green',alpha = 0.1)\n",
    "ax1.plot(increment, mean_apr, linestyle='--', marker=\"+\", color=\"purple\", label=\"April 2019\")\n",
    "ax1.fill_between(increment, left_apr,right_apr, color = 'purple',alpha = 0.1)\n",
    "ax1.legend()\n",
    "\n",
    "ax1.legend().get_frame().set_linewidth(0.0)\n",
    "\n",
    "ax1.set_xlabel(\"Relative increment in length\")\n",
    "ax1.set_ylabel('Page click-through rate')\n"
   ]
  },
  {
   "cell_type": "code",
   "execution_count": 31,
   "metadata": {},
   "outputs": [
    {
     "data": {
      "text/plain": [
       "17021"
      ]
     },
     "execution_count": 31,
     "metadata": {},
     "output_type": "execute_result"
    }
   ],
   "source": [
    "len(gs_limited[gs_limited.variation>1.1])"
   ]
  },
  {
   "cell_type": "markdown",
   "metadata": {},
   "source": [
    "No significant difference for the pages with small variation in length"
   ]
  },
  {
   "cell_type": "code",
   "execution_count": 64,
   "metadata": {},
   "outputs": [
    {
     "name": "stdout",
     "output_type": "stream",
     "text": [
      "Statistics=2851838799.500, p = 0.072\n",
      "Same distribution (fail to reject H0)\n"
     ]
    }
   ],
   "source": [
    "dist = gs_limited[gs_limited.variation<1.03][['page_ct_oct', 'page_ct_apr']]\n",
    "\n",
    "from scipy.stats import mannwhitneyu\n",
    "\n",
    "# compare distributions\n",
    "stat, p = mannwhitneyu(dist.page_ct_oct, \n",
    "                       dist.page_ct_apr,\n",
    "                       alternative=\"two-sided\")\n",
    "alpha = 0.001\n",
    "if p < alpha:\n",
    "    print('Statistics=%.3f, p < %.3f' % (stat, alpha))\n",
    "else:\n",
    "    print('Statistics=%.3f, p = %.3f' % (stat, p))\n",
    "# interpret\n",
    "if p > alpha:\n",
    "    print('Same distribution (fail to reject H0)')\n",
    "else:\n",
    "    print('Different distribution (reject H0)')"
   ]
  },
  {
   "cell_type": "code",
   "execution_count": 59,
   "metadata": {},
   "outputs": [
    {
     "data": {
      "text/plain": [
       "page_ct_oct    0.006771\n",
       "page_ct_apr    0.006806\n",
       "dtype: float64"
      ]
     },
     "execution_count": 59,
     "metadata": {},
     "output_type": "execute_result"
    }
   ],
   "source": [
    "gs_limited[gs_limited.variation<1.05][['page_ct_oct', 'page_ct_apr']].mean()"
   ]
  },
  {
   "cell_type": "code",
   "execution_count": 57,
   "metadata": {},
   "outputs": [
    {
     "data": {
      "text/plain": [
       "89412"
      ]
     },
     "execution_count": 57,
     "metadata": {},
     "output_type": "execute_result"
    }
   ],
   "source": [
    "len(gs_limited[gs_limited.variation<1.05])"
   ]
  },
  {
   "cell_type": "code",
   "execution_count": null,
   "metadata": {},
   "outputs": [],
   "source": []
  }
 ],
 "metadata": {
  "kernelspec": {
   "display_name": "PySpark - YARN",
   "language": "python",
   "name": "spark_yarn_pyspark"
  },
  "language_info": {
   "codemirror_mode": {
    "name": "ipython",
    "version": 3
   },
   "file_extension": ".py",
   "mimetype": "text/x-python",
   "name": "python",
   "nbconvert_exporter": "python",
   "pygments_lexer": "ipython3",
   "version": "3.5.3"
  }
 },
 "nbformat": 4,
 "nbformat_minor": 2
}
